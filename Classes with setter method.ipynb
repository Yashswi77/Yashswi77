{
 "cells": [
  {
   "cell_type": "code",
   "execution_count": 6,
   "id": "8c0ffe73",
   "metadata": {},
   "outputs": [
    {
     "name": "stdout",
     "output_type": "stream",
     "text": [
      "Area of Rectangle is  168\n",
      "Perimeter is  52\n"
     ]
    }
   ],
   "source": [
    "class Rectangle : \n",
    "    def setDimension(self,x,y):\n",
    "        self.length = x\n",
    "        self.breadth = y\n",
    "    def area(self):\n",
    "        a = self.length*self.breadth\n",
    "        print(\"Area of Rectangle is \",a)\n",
    "    def perimeter(self):\n",
    "        p = 2*(self.length + self.breadth)\n",
    "        print(\"Perimeter is \",p)\n",
    "        \n",
    "a = Rectangle()\n",
    "a.setDimension(12,14)\n",
    "a.area()\n",
    "a.perimeter()"
   ]
  },
  {
   "cell_type": "code",
   "execution_count": 9,
   "id": "7e8c496c",
   "metadata": {},
   "outputs": [
    {
     "name": "stdout",
     "output_type": "stream",
     "text": [
      "Volume is 60\n"
     ]
    }
   ],
   "source": [
    "class Box: \n",
    "    def setDimension(self,x,y,z):\n",
    "        self.length = x\n",
    "        self.breadth = y\n",
    "        self.height = z\n",
    "    def volume(self):\n",
    "        vol = self.length*self.breadth*self.height\n",
    "        print(\"Volume is\",vol)\n",
    "        \n",
    "b = Box()\n",
    "b.setDimension(3,4,5)\n",
    "b.volume()"
   ]
  },
  {
   "cell_type": "code",
   "execution_count": 13,
   "id": "a3401b89",
   "metadata": {},
   "outputs": [
    {
     "name": "stdout",
     "output_type": "stream",
     "text": [
      "Volume of sphere is  523.3333333333334\n"
     ]
    }
   ],
   "source": [
    "class Sphere : \n",
    "    def setRadius(self,r):\n",
    "        self.radius = r\n",
    "    def volume(self):\n",
    "        vol = 4/3*3.14*self.radius**3\n",
    "        print(\"Volume of sphere is \",vol)\n",
    "        \n",
    "s  = Sphere()\n",
    "s.setRadius(5)\n",
    "s.volume()"
   ]
  },
  {
   "cell_type": "code",
   "execution_count": 17,
   "id": "1d253628",
   "metadata": {},
   "outputs": [
    {
     "name": "stdout",
     "output_type": "stream",
     "text": [
      "Area of Circle is  12.56\n",
      "Circumference of Circle is  12.56\n"
     ]
    }
   ],
   "source": [
    "class Circle : \n",
    "    def setRadius(self,r):\n",
    "        self.radius = r\n",
    "    def area(self):\n",
    "        area = 3.14*self.radius**2\n",
    "        print(\"Area of Circle is \",area)\n",
    "\n",
    "    def circumference(self):\n",
    "        c = 2*3.14*self.radius\n",
    "        print(\"Circumference of Circle is \",c)\n",
    "        \n",
    "circle = Circle()\n",
    "circle.setRadius(2)\n",
    "circle.area()\n",
    "circle.circumference()"
   ]
  },
  {
   "cell_type": "code",
   "execution_count": 21,
   "id": "f1da7ee8",
   "metadata": {},
   "outputs": [
    {
     "name": "stdout",
     "output_type": "stream",
     "text": [
      "Payment is  2500\n"
     ]
    }
   ],
   "source": [
    "class worker: \n",
    "    def setData(payment,wages,wdays):\n",
    "        payment.w = wages\n",
    "        payment.wd = wdays\n",
    "    def Payment(payment):\n",
    "        p = payment.w*payment.wd\n",
    "        print(\"Payment is \",p)\n",
    "        \n",
    "w = worker()\n",
    "w.setData(500,5)\n",
    "w.Payment()"
   ]
  },
  {
   "cell_type": "code",
   "execution_count": 22,
   "id": "27cf3e0c",
   "metadata": {},
   "outputs": [
    {
     "name": "stdout",
     "output_type": "stream",
     "text": [
      "Payment is  2500\n"
     ]
    }
   ],
   "source": [
    "class worker: \n",
    "    def setData(payment,wages,wdays):\n",
    "        payment.w = wages\n",
    "        payment.wd = wdays\n",
    "    def Payment(self):\n",
    "        p = self.w*self.wd\n",
    "        print(\"Payment is \",p)\n",
    "        \n",
    "w = worker()\n",
    "w.setData(500,5)\n",
    "w.Payment()"
   ]
  },
  {
   "cell_type": "code",
   "execution_count": null,
   "id": "eae69d08",
   "metadata": {},
   "outputs": [],
   "source": []
  }
 ],
 "metadata": {
  "kernelspec": {
   "display_name": "Python 3 (ipykernel)",
   "language": "python",
   "name": "python3"
  },
  "language_info": {
   "codemirror_mode": {
    "name": "ipython",
    "version": 3
   },
   "file_extension": ".py",
   "mimetype": "text/x-python",
   "name": "python",
   "nbconvert_exporter": "python",
   "pygments_lexer": "ipython3",
   "version": "3.9.13"
  }
 },
 "nbformat": 4,
 "nbformat_minor": 5
}
